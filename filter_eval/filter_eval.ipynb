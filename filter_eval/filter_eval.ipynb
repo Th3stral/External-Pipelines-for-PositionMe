{
 "cells": [
  {
   "cell_type": "code",
   "execution_count": null,
   "metadata": {},
   "outputs": [],
   "source": [
    "import json\n",
    "import pandas as pd\n",
    "import math\n",
    "import numpy as np\n",
    "import matplotlib.pyplot as plt\n",
    "import plotly.graph_objects as go\n",
    "import plotly.io as pio"
   ]
  },
  {
   "cell_type": "code",
   "execution_count": 2,
   "metadata": {},
   "outputs": [
    {
     "name": "stdout",
     "output_type": "stream",
     "text": [
      "Top-level JSON keys: dict_keys(['androidVersion', 'imuData', 'pdrData', 'positionData', 'pressureData', 'lightData', 'gnssData', 'wifiData', 'apsData', 'startTimestamp', 'accelerometerInfo', 'gyroscopeInfo', 'magnetometerInfo', 'barometerInfo', 'lightSensorInfo', 'startPosition', 'fusionData'])\n",
      "Start Position: (55.9231, -3.1742742)\n",
      "Number of GNSS data points: 30\n",
      "Predicted (lat, lon) points: [(55.92302, -3.1741936), (55.92292, -3.1741865), (55.922916, -3.1743038), (55.923027, -3.1742878)]\n"
     ]
    }
   ],
   "source": [
    "# Load the trajectory file\n",
    "with open('received_trajectory.txt', 'r', encoding='utf-8') as file:\n",
    "    data = json.load(file)  # read the entire file and parse it as JSON\n",
    "\n",
    "# Inspect the top-level keys\n",
    "print(\"Top-level JSON keys:\", data.keys())\n",
    "\n",
    "# Retrieve the start position (lat, lon)\n",
    "start_position = (data['startPosition']['lat'], data['startPosition']['long'])\n",
    "print(\"Start Position:\", start_position)\n",
    "\n",
    "# Retrieve all GNSS (or fusion) data points\n",
    "gnss_list = data.get('gnssData', [])\n",
    "print(\"Number of GNSS data points:\", len(gnss_list))\n",
    "\n",
    "# Filter out only those entries that match your 'fusion' provider\n",
    "tagging_list = [item for item in gnss_list if item.get('provider') == 'fusion']\n",
    "\n",
    "# Construct a list of (latitude, longitude) tuples from these tagged points\n",
    "lat_lon_list = [\n",
    "    (item['latitude'], item['longitude'])\n",
    "    for item in tagging_list\n",
    "    if 'latitude' in item and 'longitude' in item\n",
    "]\n",
    "print(\"Predicted (lat, lon) points:\", lat_lon_list)\n"
   ]
  },
  {
   "cell_type": "code",
   "execution_count": 3,
   "metadata": {},
   "outputs": [],
   "source": [
    "ground_truth = [\n",
    "    (55.92302417892292, -3.1741890216007107), # tr\n",
    "    (55.922917910116, -3.1741892360311152), # br\n",
    "    (55.92291795573684, -3.174298939023905), # bl\n",
    "    (55.92302422452443, -3.174298724903236), # tl    \n",
    "]\n",
    "\n",
    "\n",
    "\n",
    "def haversine(coord1, coord2):\n",
    "    \"\"\"\n",
    "    Compute the Haversine distance (in meters) between two lat/lon coordinates.\n",
    "    \"\"\"\n",
    "    R = 6371000  # Earth's radius (meters)\n",
    "    lat1, lon1 = math.radians(coord1[0]), math.radians(coord1[1])\n",
    "    lat2, lon2 = math.radians(coord2[0]), math.radians(coord2[1])\n",
    "    dlat = lat2 - lat1\n",
    "    dlon = lon2 - lon1\n",
    "    a = (math.sin(dlat/2)**2\n",
    "         + math.cos(lat1)*math.cos(lat2)*math.sin(dlon/2)**2)\n",
    "    c = 2 * math.atan2(math.sqrt(a), math.sqrt(1 - a))\n",
    "    return R * c\n",
    "\n",
    "def geo_to_xy(ref, point):\n",
    "    \"\"\"\n",
    "    Convert latitude/longitude into local x, y coordinates (in meters)\n",
    "    relative to a reference latitude/longitude.\n",
    "    \"\"\"\n",
    "    lat_ref, lon_ref = ref\n",
    "    lat, lon = point\n",
    "    # Approximate conversions:\n",
    "    dx = (lon - lon_ref) * 111320 * np.cos(np.radians(lat_ref))\n",
    "    dy = (lat - lat_ref) * 110540\n",
    "    return dx, dy\n"
   ]
  },
  {
   "cell_type": "code",
   "execution_count": 4,
   "metadata": {},
   "outputs": [
    {
     "data": {
      "text/html": [
       "<div>\n",
       "<style scoped>\n",
       "    .dataframe tbody tr th:only-of-type {\n",
       "        vertical-align: middle;\n",
       "    }\n",
       "\n",
       "    .dataframe tbody tr th {\n",
       "        vertical-align: top;\n",
       "    }\n",
       "\n",
       "    .dataframe thead th {\n",
       "        text-align: right;\n",
       "    }\n",
       "</style>\n",
       "<table border=\"1\" class=\"dataframe\">\n",
       "  <thead>\n",
       "    <tr style=\"text-align: right;\">\n",
       "      <th></th>\n",
       "      <th>Predicted_Lat</th>\n",
       "      <th>Predicted_Lon</th>\n",
       "      <th>True_Lat</th>\n",
       "      <th>True_Lon</th>\n",
       "      <th>Absolute_Error_m</th>\n",
       "      <th>Relative_Error_Pairwise_%</th>\n",
       "    </tr>\n",
       "  </thead>\n",
       "  <tbody>\n",
       "    <tr>\n",
       "      <th>0</th>\n",
       "      <td>55.923020</td>\n",
       "      <td>-3.174194</td>\n",
       "      <td>55.923024</td>\n",
       "      <td>-3.174189</td>\n",
       "      <td>0.545243</td>\n",
       "      <td>NaN</td>\n",
       "    </tr>\n",
       "    <tr>\n",
       "      <th>1</th>\n",
       "      <td>55.922920</td>\n",
       "      <td>-3.174186</td>\n",
       "      <td>55.922918</td>\n",
       "      <td>-3.174189</td>\n",
       "      <td>0.288202</td>\n",
       "      <td>2.438969</td>\n",
       "    </tr>\n",
       "    <tr>\n",
       "      <th>2</th>\n",
       "      <td>55.922916</td>\n",
       "      <td>-3.174304</td>\n",
       "      <td>55.922918</td>\n",
       "      <td>-3.174299</td>\n",
       "      <td>0.372845</td>\n",
       "      <td>5.455047</td>\n",
       "    </tr>\n",
       "    <tr>\n",
       "      <th>3</th>\n",
       "      <td>55.923027</td>\n",
       "      <td>-3.174288</td>\n",
       "      <td>55.923024</td>\n",
       "      <td>-3.174299</td>\n",
       "      <td>0.747355</td>\n",
       "      <td>6.324638</td>\n",
       "    </tr>\n",
       "  </tbody>\n",
       "</table>\n",
       "</div>"
      ],
      "text/plain": [
       "   Predicted_Lat  Predicted_Lon   True_Lat  True_Lon  Absolute_Error_m  \\\n",
       "0      55.923020      -3.174194  55.923024 -3.174189          0.545243   \n",
       "1      55.922920      -3.174186  55.922918 -3.174189          0.288202   \n",
       "2      55.922916      -3.174304  55.922918 -3.174299          0.372845   \n",
       "3      55.923027      -3.174288  55.923024 -3.174299          0.747355   \n",
       "\n",
       "   Relative_Error_Pairwise_%  \n",
       "0                        NaN  \n",
       "1                   2.438969  \n",
       "2                   5.455047  \n",
       "3                   6.324638  "
      ]
     },
     "execution_count": 4,
     "metadata": {},
     "output_type": "execute_result"
    }
   ],
   "source": [
    "# Compute absolute (Haversine) errors for each predicted vs. ground truth\n",
    "errors = []\n",
    "for pred, truth in zip(lat_lon_list, ground_truth):\n",
    "    abs_err = haversine(pred, truth)\n",
    "    errors.append(abs_err)\n",
    "\n",
    "# Compute the distance between the first and last ground truth points\n",
    "# as a global reference distance (for demonstration)\n",
    "ref_dist = haversine(ground_truth[0], ground_truth[-1])\n",
    "\n",
    "# Compute relative errors (percentage) vs. this global reference distance\n",
    "relative_errors = [(e / ref_dist) * 100 for e in errors]\n",
    "\n",
    "# Create a DataFrame to organize results\n",
    "df = pd.DataFrame({\n",
    "    'Predicted_Lat': [p[0] for p in lat_lon_list],\n",
    "    'Predicted_Lon': [p[1] for p in lat_lon_list],\n",
    "    'True_Lat': [t[0] for t in ground_truth],\n",
    "    'True_Lon': [t[1] for t in ground_truth],\n",
    "    'Absolute_Error_m': errors\n",
    "})\n",
    "\n",
    "# Compute pairwise relative errors:\n",
    "# The 'reference distance' here is the distance between consecutive GT points\n",
    "relative_errors_pairwise = [None]  # The first point has no previous neighbor\n",
    "\n",
    "for i in range(1, len(ground_truth)):\n",
    "    segment_dist = haversine(ground_truth[i - 1], ground_truth[i])\n",
    "    rel_err = (errors[i] / segment_dist) * 100 if segment_dist != 0 else None\n",
    "    relative_errors_pairwise.append(rel_err)\n",
    "\n",
    "df['Relative_Error_Pairwise_%'] = relative_errors_pairwise\n",
    "\n",
    "# Display the result table\n",
    "df\n"
   ]
  },
  {
   "cell_type": "code",
   "execution_count": 5,
   "metadata": {},
   "outputs": [
    {
     "data": {
      "application/vnd.plotly.v1+json": {
       "config": {
        "plotlyServerURL": "https://plot.ly"
       },
       "data": [
        {
         "line": {
          "width": 2
         },
         "mode": "lines",
         "name": "Estimated Trajectory (x,y)",
         "type": "scatter",
         "x": [
          0,
          -0.22234549,
          -0.41414866,
          -0.542272,
          -0.63707596,
          -0.62800795,
          -0.5219289,
          -0.43500555,
          -0.41025767,
          -0.14326647,
          -0.008259046,
          0.7362426,
          0.9209077,
          1.0959419,
          1.8053061,
          2.5462415,
          3.060107,
          3.6746957,
          4.605131,
          5.0208883,
          5.3411527,
          5.712068,
          6.1095524,
          6.1960835,
          6.3715425,
          6.5105953,
          6.594486,
          6.560406,
          6.5674872,
          6.618957,
          6.674232,
          6.6476626,
          6.6711617,
          6.684658,
          6.581985,
          6.5068455,
          6.604448,
          6.572724,
          6.5140977,
          6.2621455,
          5.9821935,
          5.460996,
          4.866695,
          4.2217956,
          3.6667109,
          3.1426888,
          2.5450873,
          2.1194675,
          1.2969713,
          0.62310404,
          0.073549174,
          -0.5493121,
          -1.1620976,
          -1.8383666,
          -1.8594173,
          -1.943498,
          -2.0035777,
          -2.0728095,
          -2.020464,
          -2.0530322,
          -2.26641,
          -2.41245,
          -2.552945,
          -2.6323864,
          -2.7549875,
          -2.7666056,
          -2.7603357,
          -2.648455,
          -2.559892,
          -2.4761584,
          -2.336219,
          -2.217084,
          -2.0733416,
          -1.6625615,
          -1.236452,
          -0.8404558
         ],
         "y": [
          0,
          -2.6706448,
          -3.8285363,
          -4.5128365,
          -4.8650923,
          -5.493995,
          -6.2110343,
          -6.876986,
          -7.342467,
          -7.838835,
          -8.430824,
          -9.498018,
          -9.572228,
          -9.598022,
          -9.751621,
          -9.634961,
          -9.477208,
          -9.361737,
          -9.046487,
          -8.903198,
          -9.373336,
          -9.915462,
          -10.371636,
          -10.749728,
          -11.316606,
          -11.825413,
          -12.383712,
          -12.90227,
          -13.509826,
          -14.008854,
          -14.549891,
          -15.012801,
          -15.4867525,
          -16.102106,
          -16.652939,
          -17.225798,
          -17.821884,
          -18.402264,
          -18.975416,
          -19.510729,
          -19.830347,
          -19.857811,
          -19.57031,
          -19.468401,
          -19.678232,
          -19.662382,
          -19.89438,
          -19.942236,
          -19.986425,
          -20.114119,
          -20.161581,
          -20.274918,
          -20.193224,
          -20.1919,
          -19.667454,
          -18.859312,
          -18.243973,
          -17.673262,
          -16.942057,
          -16.29732,
          -15.665843,
          -14.959022,
          -14.330074,
          -13.753131,
          -12.998015,
          -12.3997345,
          -11.878991,
          -11.271342,
          -10.654038,
          -10.199647,
          -9.658229,
          -9.227228,
          -8.842605,
          -8.5897665,
          -8.432753,
          -8.207199
         ]
        },
        {
         "marker": {
          "size": 8
         },
         "mode": "markers",
         "name": "Predicted Points",
         "type": "scatter",
         "x": [
          5.027276988244754,
          5.4701264500115965,
          -1.8462456433236236,
          -0.8482750253086082
         ],
         "y": [
          -8.843199999665217,
          -19.89720000003217,
          -20.33935999970126,
          -8.069420000047955
         ]
        },
        {
         "marker": {
          "size": 12,
          "symbol": "star"
         },
         "mode": "markers",
         "name": "Ground Truth Points",
         "type": "scatter",
         "x": [
          5.312846236271317,
          5.299471533562349,
          -1.5430511859700862,
          -1.5296958024346894
         ],
         "y": [
          -8.381261859924507,
          -20.128215777302643,
          -20.123172849207833,
          -8.376221068995449
         ]
        }
       ],
       "layout": {
        "height": 600,
        "legend": {
         "x": 0,
         "y": 1
        },
        "template": {
         "data": {
          "bar": [
           {
            "error_x": {
             "color": "#2a3f5f"
            },
            "error_y": {
             "color": "#2a3f5f"
            },
            "marker": {
             "line": {
              "color": "#E5ECF6",
              "width": 0.5
             },
             "pattern": {
              "fillmode": "overlay",
              "size": 10,
              "solidity": 0.2
             }
            },
            "type": "bar"
           }
          ],
          "barpolar": [
           {
            "marker": {
             "line": {
              "color": "#E5ECF6",
              "width": 0.5
             },
             "pattern": {
              "fillmode": "overlay",
              "size": 10,
              "solidity": 0.2
             }
            },
            "type": "barpolar"
           }
          ],
          "carpet": [
           {
            "aaxis": {
             "endlinecolor": "#2a3f5f",
             "gridcolor": "white",
             "linecolor": "white",
             "minorgridcolor": "white",
             "startlinecolor": "#2a3f5f"
            },
            "baxis": {
             "endlinecolor": "#2a3f5f",
             "gridcolor": "white",
             "linecolor": "white",
             "minorgridcolor": "white",
             "startlinecolor": "#2a3f5f"
            },
            "type": "carpet"
           }
          ],
          "choropleth": [
           {
            "colorbar": {
             "outlinewidth": 0,
             "ticks": ""
            },
            "type": "choropleth"
           }
          ],
          "contour": [
           {
            "colorbar": {
             "outlinewidth": 0,
             "ticks": ""
            },
            "colorscale": [
             [
              0,
              "#0d0887"
             ],
             [
              0.1111111111111111,
              "#46039f"
             ],
             [
              0.2222222222222222,
              "#7201a8"
             ],
             [
              0.3333333333333333,
              "#9c179e"
             ],
             [
              0.4444444444444444,
              "#bd3786"
             ],
             [
              0.5555555555555556,
              "#d8576b"
             ],
             [
              0.6666666666666666,
              "#ed7953"
             ],
             [
              0.7777777777777778,
              "#fb9f3a"
             ],
             [
              0.8888888888888888,
              "#fdca26"
             ],
             [
              1,
              "#f0f921"
             ]
            ],
            "type": "contour"
           }
          ],
          "contourcarpet": [
           {
            "colorbar": {
             "outlinewidth": 0,
             "ticks": ""
            },
            "type": "contourcarpet"
           }
          ],
          "heatmap": [
           {
            "colorbar": {
             "outlinewidth": 0,
             "ticks": ""
            },
            "colorscale": [
             [
              0,
              "#0d0887"
             ],
             [
              0.1111111111111111,
              "#46039f"
             ],
             [
              0.2222222222222222,
              "#7201a8"
             ],
             [
              0.3333333333333333,
              "#9c179e"
             ],
             [
              0.4444444444444444,
              "#bd3786"
             ],
             [
              0.5555555555555556,
              "#d8576b"
             ],
             [
              0.6666666666666666,
              "#ed7953"
             ],
             [
              0.7777777777777778,
              "#fb9f3a"
             ],
             [
              0.8888888888888888,
              "#fdca26"
             ],
             [
              1,
              "#f0f921"
             ]
            ],
            "type": "heatmap"
           }
          ],
          "histogram": [
           {
            "marker": {
             "pattern": {
              "fillmode": "overlay",
              "size": 10,
              "solidity": 0.2
             }
            },
            "type": "histogram"
           }
          ],
          "histogram2d": [
           {
            "colorbar": {
             "outlinewidth": 0,
             "ticks": ""
            },
            "colorscale": [
             [
              0,
              "#0d0887"
             ],
             [
              0.1111111111111111,
              "#46039f"
             ],
             [
              0.2222222222222222,
              "#7201a8"
             ],
             [
              0.3333333333333333,
              "#9c179e"
             ],
             [
              0.4444444444444444,
              "#bd3786"
             ],
             [
              0.5555555555555556,
              "#d8576b"
             ],
             [
              0.6666666666666666,
              "#ed7953"
             ],
             [
              0.7777777777777778,
              "#fb9f3a"
             ],
             [
              0.8888888888888888,
              "#fdca26"
             ],
             [
              1,
              "#f0f921"
             ]
            ],
            "type": "histogram2d"
           }
          ],
          "histogram2dcontour": [
           {
            "colorbar": {
             "outlinewidth": 0,
             "ticks": ""
            },
            "colorscale": [
             [
              0,
              "#0d0887"
             ],
             [
              0.1111111111111111,
              "#46039f"
             ],
             [
              0.2222222222222222,
              "#7201a8"
             ],
             [
              0.3333333333333333,
              "#9c179e"
             ],
             [
              0.4444444444444444,
              "#bd3786"
             ],
             [
              0.5555555555555556,
              "#d8576b"
             ],
             [
              0.6666666666666666,
              "#ed7953"
             ],
             [
              0.7777777777777778,
              "#fb9f3a"
             ],
             [
              0.8888888888888888,
              "#fdca26"
             ],
             [
              1,
              "#f0f921"
             ]
            ],
            "type": "histogram2dcontour"
           }
          ],
          "mesh3d": [
           {
            "colorbar": {
             "outlinewidth": 0,
             "ticks": ""
            },
            "type": "mesh3d"
           }
          ],
          "parcoords": [
           {
            "line": {
             "colorbar": {
              "outlinewidth": 0,
              "ticks": ""
             }
            },
            "type": "parcoords"
           }
          ],
          "pie": [
           {
            "automargin": true,
            "type": "pie"
           }
          ],
          "scatter": [
           {
            "fillpattern": {
             "fillmode": "overlay",
             "size": 10,
             "solidity": 0.2
            },
            "type": "scatter"
           }
          ],
          "scatter3d": [
           {
            "line": {
             "colorbar": {
              "outlinewidth": 0,
              "ticks": ""
             }
            },
            "marker": {
             "colorbar": {
              "outlinewidth": 0,
              "ticks": ""
             }
            },
            "type": "scatter3d"
           }
          ],
          "scattercarpet": [
           {
            "marker": {
             "colorbar": {
              "outlinewidth": 0,
              "ticks": ""
             }
            },
            "type": "scattercarpet"
           }
          ],
          "scattergeo": [
           {
            "marker": {
             "colorbar": {
              "outlinewidth": 0,
              "ticks": ""
             }
            },
            "type": "scattergeo"
           }
          ],
          "scattergl": [
           {
            "marker": {
             "colorbar": {
              "outlinewidth": 0,
              "ticks": ""
             }
            },
            "type": "scattergl"
           }
          ],
          "scattermap": [
           {
            "marker": {
             "colorbar": {
              "outlinewidth": 0,
              "ticks": ""
             }
            },
            "type": "scattermap"
           }
          ],
          "scattermapbox": [
           {
            "marker": {
             "colorbar": {
              "outlinewidth": 0,
              "ticks": ""
             }
            },
            "type": "scattermapbox"
           }
          ],
          "scatterpolar": [
           {
            "marker": {
             "colorbar": {
              "outlinewidth": 0,
              "ticks": ""
             }
            },
            "type": "scatterpolar"
           }
          ],
          "scatterpolargl": [
           {
            "marker": {
             "colorbar": {
              "outlinewidth": 0,
              "ticks": ""
             }
            },
            "type": "scatterpolargl"
           }
          ],
          "scatterternary": [
           {
            "marker": {
             "colorbar": {
              "outlinewidth": 0,
              "ticks": ""
             }
            },
            "type": "scatterternary"
           }
          ],
          "surface": [
           {
            "colorbar": {
             "outlinewidth": 0,
             "ticks": ""
            },
            "colorscale": [
             [
              0,
              "#0d0887"
             ],
             [
              0.1111111111111111,
              "#46039f"
             ],
             [
              0.2222222222222222,
              "#7201a8"
             ],
             [
              0.3333333333333333,
              "#9c179e"
             ],
             [
              0.4444444444444444,
              "#bd3786"
             ],
             [
              0.5555555555555556,
              "#d8576b"
             ],
             [
              0.6666666666666666,
              "#ed7953"
             ],
             [
              0.7777777777777778,
              "#fb9f3a"
             ],
             [
              0.8888888888888888,
              "#fdca26"
             ],
             [
              1,
              "#f0f921"
             ]
            ],
            "type": "surface"
           }
          ],
          "table": [
           {
            "cells": {
             "fill": {
              "color": "#EBF0F8"
             },
             "line": {
              "color": "white"
             }
            },
            "header": {
             "fill": {
              "color": "#C8D4E3"
             },
             "line": {
              "color": "white"
             }
            },
            "type": "table"
           }
          ]
         },
         "layout": {
          "annotationdefaults": {
           "arrowcolor": "#2a3f5f",
           "arrowhead": 0,
           "arrowwidth": 1
          },
          "autotypenumbers": "strict",
          "coloraxis": {
           "colorbar": {
            "outlinewidth": 0,
            "ticks": ""
           }
          },
          "colorscale": {
           "diverging": [
            [
             0,
             "#8e0152"
            ],
            [
             0.1,
             "#c51b7d"
            ],
            [
             0.2,
             "#de77ae"
            ],
            [
             0.3,
             "#f1b6da"
            ],
            [
             0.4,
             "#fde0ef"
            ],
            [
             0.5,
             "#f7f7f7"
            ],
            [
             0.6,
             "#e6f5d0"
            ],
            [
             0.7,
             "#b8e186"
            ],
            [
             0.8,
             "#7fbc41"
            ],
            [
             0.9,
             "#4d9221"
            ],
            [
             1,
             "#276419"
            ]
           ],
           "sequential": [
            [
             0,
             "#0d0887"
            ],
            [
             0.1111111111111111,
             "#46039f"
            ],
            [
             0.2222222222222222,
             "#7201a8"
            ],
            [
             0.3333333333333333,
             "#9c179e"
            ],
            [
             0.4444444444444444,
             "#bd3786"
            ],
            [
             0.5555555555555556,
             "#d8576b"
            ],
            [
             0.6666666666666666,
             "#ed7953"
            ],
            [
             0.7777777777777778,
             "#fb9f3a"
            ],
            [
             0.8888888888888888,
             "#fdca26"
            ],
            [
             1,
             "#f0f921"
            ]
           ],
           "sequentialminus": [
            [
             0,
             "#0d0887"
            ],
            [
             0.1111111111111111,
             "#46039f"
            ],
            [
             0.2222222222222222,
             "#7201a8"
            ],
            [
             0.3333333333333333,
             "#9c179e"
            ],
            [
             0.4444444444444444,
             "#bd3786"
            ],
            [
             0.5555555555555556,
             "#d8576b"
            ],
            [
             0.6666666666666666,
             "#ed7953"
            ],
            [
             0.7777777777777778,
             "#fb9f3a"
            ],
            [
             0.8888888888888888,
             "#fdca26"
            ],
            [
             1,
             "#f0f921"
            ]
           ]
          },
          "colorway": [
           "#636efa",
           "#EF553B",
           "#00cc96",
           "#ab63fa",
           "#FFA15A",
           "#19d3f3",
           "#FF6692",
           "#B6E880",
           "#FF97FF",
           "#FECB52"
          ],
          "font": {
           "color": "#2a3f5f"
          },
          "geo": {
           "bgcolor": "white",
           "lakecolor": "white",
           "landcolor": "#E5ECF6",
           "showlakes": true,
           "showland": true,
           "subunitcolor": "white"
          },
          "hoverlabel": {
           "align": "left"
          },
          "hovermode": "closest",
          "mapbox": {
           "style": "light"
          },
          "paper_bgcolor": "white",
          "plot_bgcolor": "#E5ECF6",
          "polar": {
           "angularaxis": {
            "gridcolor": "white",
            "linecolor": "white",
            "ticks": ""
           },
           "bgcolor": "#E5ECF6",
           "radialaxis": {
            "gridcolor": "white",
            "linecolor": "white",
            "ticks": ""
           }
          },
          "scene": {
           "xaxis": {
            "backgroundcolor": "#E5ECF6",
            "gridcolor": "white",
            "gridwidth": 2,
            "linecolor": "white",
            "showbackground": true,
            "ticks": "",
            "zerolinecolor": "white"
           },
           "yaxis": {
            "backgroundcolor": "#E5ECF6",
            "gridcolor": "white",
            "gridwidth": 2,
            "linecolor": "white",
            "showbackground": true,
            "ticks": "",
            "zerolinecolor": "white"
           },
           "zaxis": {
            "backgroundcolor": "#E5ECF6",
            "gridcolor": "white",
            "gridwidth": 2,
            "linecolor": "white",
            "showbackground": true,
            "ticks": "",
            "zerolinecolor": "white"
           }
          },
          "shapedefaults": {
           "line": {
            "color": "#2a3f5f"
           }
          },
          "ternary": {
           "aaxis": {
            "gridcolor": "white",
            "linecolor": "white",
            "ticks": ""
           },
           "baxis": {
            "gridcolor": "white",
            "linecolor": "white",
            "ticks": ""
           },
           "bgcolor": "#E5ECF6",
           "caxis": {
            "gridcolor": "white",
            "linecolor": "white",
            "ticks": ""
           }
          },
          "title": {
           "x": 0.05
          },
          "xaxis": {
           "automargin": true,
           "gridcolor": "white",
           "linecolor": "white",
           "ticks": "",
           "title": {
            "standoff": 15
           },
           "zerolinecolor": "white",
           "zerolinewidth": 2
          },
          "yaxis": {
           "automargin": true,
           "gridcolor": "white",
           "linecolor": "white",
           "ticks": "",
           "title": {
            "standoff": 15
           },
           "zerolinecolor": "white",
           "zerolinewidth": 2
          }
         }
        },
        "title": {
         "text": "Trajectory vs. Fusion/Ground Truth Points"
        },
        "width": 800,
        "xaxis": {
         "scaleanchor": "y",
         "title": {
          "text": "X Direction (m)"
         }
        },
        "yaxis": {
         "title": {
          "text": "Y Direction (m)"
         }
        }
       }
      }
     },
     "metadata": {},
     "output_type": "display_data"
    }
   ],
   "source": [
    "\n",
    "# Extract the recorded (x, y) path from the JSON (if available)\n",
    "xy_coords = [(0, 0)] + [(item['x'], item['y']) for item in data['fusionData']]\n",
    "\n",
    "# Convert lat/lon predictions and ground truths to local x, y (meters)\n",
    "fused_xy = [geo_to_xy(start_position, p) for p in lat_lon_list]\n",
    "true_xy  = [geo_to_xy(start_position, t) for t in ground_truth]\n",
    "\n",
    "# Separate out the x, y lists\n",
    "xvals = [coord[0] for coord in xy_coords]\n",
    "yvals = [coord[1] for coord in xy_coords]\n",
    "\n",
    "# Create the plotly figure\n",
    "fig = go.Figure()\n",
    "\n",
    "# Add estimated trajectory line\n",
    "fig.add_trace(go.Scatter(\n",
    "    x=xvals, y=yvals,\n",
    "    mode='lines',\n",
    "    name='Estimated Trajectory (x,y)',\n",
    "    line=dict(width=2)\n",
    "))\n",
    "\n",
    "# Add predicted points\n",
    "fused_x, fused_y = zip(*fused_xy)\n",
    "fig.add_trace(go.Scatter(\n",
    "    x=fused_x, y=fused_y,\n",
    "    mode='markers',\n",
    "    name='Predicted Points',\n",
    "    marker=dict(size=8)\n",
    "))\n",
    "\n",
    "# Add ground truth points\n",
    "true_x, true_y = zip(*true_xy)\n",
    "fig.add_trace(go.Scatter(\n",
    "    x=true_x, y=true_y,\n",
    "    mode='markers',\n",
    "    name='Ground Truth Points',\n",
    "    marker=dict(symbol='star', size=12)\n",
    "))\n",
    "\n",
    "fig.update_layout(\n",
    "    title='Trajectory vs. Fusion/Ground Truth Points',\n",
    "    xaxis_title='X Direction (m)',\n",
    "    yaxis_title='Y Direction (m)',\n",
    "    legend=dict(x=0, y=1),\n",
    "    xaxis=dict(scaleanchor='y'),\n",
    "    yaxis=dict(),\n",
    "    width=800,\n",
    "    height=600,\n",
    "    # paper_bgcolor='rgba(0,0,0,0)',  # transparent paper background\n",
    "    # plot_bgcolor='rgba(0,0,0,0)'    # transparent plot background\n",
    ")\n",
    "\n",
    "\n",
    "fig.show()\n",
    "\n",
    "# pio.write_image(fig, \"trajectory.png\", format='png', width=800, height=600, scale=2, engine='kaleido') # Save as PNG\n"
   ]
  },
  {
   "cell_type": "code",
   "execution_count": null,
   "metadata": {},
   "outputs": [
    {
     "name": "stdout",
     "output_type": "stream",
     "text": [
      "RMSE (m): 0.5191104914815435\n",
      "Mean Absolute Error (m): 0.48841125212570224\n",
      "Std Dev of Error (m): 0.17586969938910274\n",
      "Minimum Error (m): 0.28820222320661415\n",
      "Maximum Error (m): 0.7473545352785772\n",
      "Median Error (m): 0.45904412500880887\n"
     ]
    },
    {
     "data": {
      "image/png": "[encoded data removed]",
      "text/plain": [
       "<Figure size 640x480 with 1 Axes>"
      ]
     },
     "metadata": {},
     "output_type": "display_data"
    },
    {
     "data": {
      "image/png": "[encoded data removed]",
      "text/plain": [
       "<Figure size 640x480 with 1 Axes>"
      ]
     },
     "metadata": {},
     "output_type": "display_data"
    }
   ],
   "source": [
    "#####################################\n",
    "# Extended Error Evaluation\n",
    "#####################################\n",
    "\n",
    "# error metrics\n",
    "rmse = np.sqrt(np.mean([e**2 for e in errors]))\n",
    "mae  = np.mean(errors)\n",
    "std_dev = np.std(errors)\n",
    "min_err = np.min(errors)\n",
    "max_err = np.max(errors)\n",
    "median_err = np.median(errors)\n",
    "\n",
    "print(\"RMSE (m):\", rmse)\n",
    "print(\"Mean Absolute Error (m):\", mae)\n",
    "print(\"Std Dev of Error (m):\", std_dev)\n",
    "print(\"Minimum Error (m):\", min_err)\n",
    "print(\"Maximum Error (m):\", max_err)\n",
    "print(\"Median Error (m):\", median_err)\n",
    "\n",
    "# 2. Create a CDF plot\n",
    "sorted_errors = np.sort(errors)\n",
    "cdf_yvals = np.arange(len(sorted_errors)) / (len(sorted_errors) - 1)\n",
    "\n",
    "plt.figure()\n",
    "plt.plot(sorted_errors, cdf_yvals)\n",
    "plt.xlabel(\"Error (m)\")\n",
    "plt.ylabel(\"Cumulative Probability\")\n",
    "plt.title(\"CDF of Position Errors\")\n",
    "plt.grid(True)\n",
    "plt.show()\n",
    "\n",
    "# 3. Plot error over points or time if you have timestamps\n",
    "plt.figure()\n",
    "plt.plot(errors, marker='o')\n",
    "plt.title(\"Error Over Index\")\n",
    "plt.xlabel(\"Data Point Index\")\n",
    "plt.ylabel(\"Error (m)\")\n",
    "plt.grid(True)\n",
    "plt.show()\n"
   ]
  }
 ],
 "metadata": {
  "kernelspec": {
   "display_name": "wind",
   "language": "python",
   "name": "python3"
  },
  "language_info": {
   "codemirror_mode": {
    "name": "ipython",
    "version": 3
   },
   "file_extension": ".py",
   "mimetype": "text/x-python",
   "name": "python",
   "nbconvert_exporter": "python",
   "pygments_lexer": "ipython3",
   "version": "3.12.9"
  }
 },
 "nbformat": 4,
 "nbformat_minor": 2
}
